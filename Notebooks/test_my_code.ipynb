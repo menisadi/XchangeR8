{
 "cells": [
  {
   "cell_type": "code",
   "execution_count": 1,
   "metadata": {},
   "outputs": [],
   "source": [
    "import os"
   ]
  },
  {
   "cell_type": "code",
   "execution_count": 2,
   "metadata": {},
   "outputs": [],
   "source": [
    "os.chdir('..')"
   ]
  },
  {
   "cell_type": "code",
   "execution_count": 3,
   "metadata": {},
   "outputs": [],
   "source": [
    "from XchangeR8 import Rates"
   ]
  },
  {
   "cell_type": "code",
   "execution_count": 4,
   "metadata": {},
   "outputs": [],
   "source": [
    "new_rates = Rates('Data\\currency_graph.csv')"
   ]
  },
  {
   "cell_type": "code",
   "execution_count": 5,
   "metadata": {},
   "outputs": [
    {
     "data": {
      "text/html": [
       "<div>\n",
       "<style scoped>\n",
       "    .dataframe tbody tr th:only-of-type {\n",
       "        vertical-align: middle;\n",
       "    }\n",
       "\n",
       "    .dataframe tbody tr th {\n",
       "        vertical-align: top;\n",
       "    }\n",
       "\n",
       "    .dataframe thead th {\n",
       "        text-align: right;\n",
       "    }\n",
       "</style>\n",
       "<table border=\"1\" class=\"dataframe\">\n",
       "  <thead>\n",
       "    <tr style=\"text-align: right;\">\n",
       "      <th>target</th>\n",
       "      <th>Dollar</th>\n",
       "      <th>Euro</th>\n",
       "      <th>Pound</th>\n",
       "      <th>Rupee</th>\n",
       "      <th>Shekel</th>\n",
       "      <th>Yen</th>\n",
       "    </tr>\n",
       "    <tr>\n",
       "      <th>source</th>\n",
       "      <th></th>\n",
       "      <th></th>\n",
       "      <th></th>\n",
       "      <th></th>\n",
       "      <th></th>\n",
       "      <th></th>\n",
       "    </tr>\n",
       "  </thead>\n",
       "  <tbody>\n",
       "    <tr>\n",
       "      <th>Dollar</th>\n",
       "      <td>NaN</td>\n",
       "      <td>1.936257</td>\n",
       "      <td>2.753952</td>\n",
       "      <td>1.445259</td>\n",
       "      <td>0.476595</td>\n",
       "      <td>2.332924</td>\n",
       "    </tr>\n",
       "    <tr>\n",
       "      <th>Euro</th>\n",
       "      <td>0.478238</td>\n",
       "      <td>NaN</td>\n",
       "      <td>1.382725</td>\n",
       "      <td>0.699347</td>\n",
       "      <td>0.227093</td>\n",
       "      <td>1.178194</td>\n",
       "    </tr>\n",
       "    <tr>\n",
       "      <th>Pound</th>\n",
       "      <td>0.290816</td>\n",
       "      <td>0.649127</td>\n",
       "      <td>NaN</td>\n",
       "      <td>0.483938</td>\n",
       "      <td>0.160525</td>\n",
       "      <td>0.813951</td>\n",
       "    </tr>\n",
       "    <tr>\n",
       "      <th>Rupee</th>\n",
       "      <td>0.613260</td>\n",
       "      <td>1.212692</td>\n",
       "      <td>1.823803</td>\n",
       "      <td>NaN</td>\n",
       "      <td>0.276136</td>\n",
       "      <td>1.634941</td>\n",
       "    </tr>\n",
       "    <tr>\n",
       "      <th>Shekel</th>\n",
       "      <td>1.765029</td>\n",
       "      <td>3.676628</td>\n",
       "      <td>5.334105</td>\n",
       "      <td>2.919631</td>\n",
       "      <td>NaN</td>\n",
       "      <td>3.878517</td>\n",
       "    </tr>\n",
       "    <tr>\n",
       "      <th>Yen</th>\n",
       "      <td>0.345974</td>\n",
       "      <td>0.724885</td>\n",
       "      <td>1.087261</td>\n",
       "      <td>0.562728</td>\n",
       "      <td>0.127463</td>\n",
       "      <td>NaN</td>\n",
       "    </tr>\n",
       "  </tbody>\n",
       "</table>\n",
       "</div>"
      ],
      "text/plain": [
       "target    Dollar      Euro     Pound     Rupee    Shekel       Yen\n",
       "source                                                            \n",
       "Dollar       NaN  1.936257  2.753952  1.445259  0.476595  2.332924\n",
       "Euro    0.478238       NaN  1.382725  0.699347  0.227093  1.178194\n",
       "Pound   0.290816  0.649127       NaN  0.483938  0.160525  0.813951\n",
       "Rupee   0.613260  1.212692  1.823803       NaN  0.276136  1.634941\n",
       "Shekel  1.765029  3.676628  5.334105  2.919631       NaN  3.878517\n",
       "Yen     0.345974  0.724885  1.087261  0.562728  0.127463       NaN"
      ]
     },
     "execution_count": 5,
     "metadata": {},
     "output_type": "execute_result"
    }
   ],
   "source": [
    "new_rates.rates"
   ]
  },
  {
   "cell_type": "code",
   "execution_count": 4,
   "metadata": {},
   "outputs": [],
   "source": [
    "# new_rates.update_graph()"
   ]
  },
  {
   "cell_type": "code",
   "execution_count": null,
   "metadata": {},
   "outputs": [],
   "source": []
  },
  {
   "cell_type": "code",
   "execution_count": 7,
   "metadata": {},
   "outputs": [
    {
     "data": {
      "text/plain": [
       "[{'from': 'Shekel', 'to': 'Rupee', 'bank': 'WBank'},\n",
       " {'from': 'Rupee', 'to': 'Dollar', 'bank': 'WBank'}]"
      ]
     },
     "execution_count": 7,
     "metadata": {},
     "output_type": "execute_result"
    }
   ],
   "source": [
    "wish = {'from': 'Shekel', 'to': 'Dollar', 'amount': 100}\n",
    "new_rates.max_revenue(wish)"
   ]
  },
  {
   "cell_type": "code",
   "execution_count": 8,
   "metadata": {},
   "outputs": [
    {
     "ename": "KeyError",
     "evalue": "'bank'",
     "output_type": "error",
     "traceback": [
      "\u001b[1;31m---------------------------------------------------------------------------\u001b[0m",
      "\u001b[1;31mKeyError\u001b[0m                                  Traceback (most recent call last)",
      "File \u001b[1;32mc:\\Users\\menis\\miniconda3\\envs\\geo\\lib\\site-packages\\pandas\\core\\indexes\\base.py:3803\u001b[0m, in \u001b[0;36mIndex.get_loc\u001b[1;34m(self, key, method, tolerance)\u001b[0m\n\u001b[0;32m   3802\u001b[0m \u001b[39mtry\u001b[39;00m:\n\u001b[1;32m-> 3803\u001b[0m     \u001b[39mreturn\u001b[39;00m \u001b[39mself\u001b[39;49m\u001b[39m.\u001b[39;49m_engine\u001b[39m.\u001b[39;49mget_loc(casted_key)\n\u001b[0;32m   3804\u001b[0m \u001b[39mexcept\u001b[39;00m \u001b[39mKeyError\u001b[39;00m \u001b[39mas\u001b[39;00m err:\n",
      "File \u001b[1;32mc:\\Users\\menis\\miniconda3\\envs\\geo\\lib\\site-packages\\pandas\\_libs\\index.pyx:138\u001b[0m, in \u001b[0;36mpandas._libs.index.IndexEngine.get_loc\u001b[1;34m()\u001b[0m\n",
      "File \u001b[1;32mc:\\Users\\menis\\miniconda3\\envs\\geo\\lib\\site-packages\\pandas\\_libs\\index.pyx:165\u001b[0m, in \u001b[0;36mpandas._libs.index.IndexEngine.get_loc\u001b[1;34m()\u001b[0m\n",
      "File \u001b[1;32mpandas\\_libs\\hashtable_class_helper.pxi:5745\u001b[0m, in \u001b[0;36mpandas._libs.hashtable.PyObjectHashTable.get_item\u001b[1;34m()\u001b[0m\n",
      "File \u001b[1;32mpandas\\_libs\\hashtable_class_helper.pxi:5753\u001b[0m, in \u001b[0;36mpandas._libs.hashtable.PyObjectHashTable.get_item\u001b[1;34m()\u001b[0m\n",
      "\u001b[1;31mKeyError\u001b[0m: 'bank'",
      "\nThe above exception was the direct cause of the following exception:\n",
      "\u001b[1;31mKeyError\u001b[0m                                  Traceback (most recent call last)",
      "Cell \u001b[1;32mIn[8], line 3\u001b[0m\n\u001b[0;32m      1\u001b[0m flash_news \u001b[39m=\u001b[39m [{\u001b[39m'\u001b[39m\u001b[39mfrom\u001b[39m\u001b[39m'\u001b[39m: \u001b[39m'\u001b[39m\u001b[39mDollar\u001b[39m\u001b[39m'\u001b[39m,\u001b[39m'\u001b[39m\u001b[39mto\u001b[39m\u001b[39m'\u001b[39m: \u001b[39m'\u001b[39m\u001b[39mEuro\u001b[39m\u001b[39m'\u001b[39m,\u001b[39m'\u001b[39m\u001b[39mbank\u001b[39m\u001b[39m'\u001b[39m: \u001b[39m'\u001b[39m\u001b[39mYbank\u001b[39m\u001b[39m'\u001b[39m,\u001b[39m'\u001b[39m\u001b[39mrate\u001b[39m\u001b[39m'\u001b[39m: \u001b[39m0.9\u001b[39m},\n\u001b[0;32m      2\u001b[0m     {\u001b[39m'\u001b[39m\u001b[39mfrom\u001b[39m\u001b[39m'\u001b[39m: \u001b[39m'\u001b[39m\u001b[39mRupee\u001b[39m\u001b[39m'\u001b[39m,\u001b[39m'\u001b[39m\u001b[39mto\u001b[39m\u001b[39m'\u001b[39m: \u001b[39m'\u001b[39m\u001b[39mShekel\u001b[39m\u001b[39m'\u001b[39m,\u001b[39m'\u001b[39m\u001b[39mbank\u001b[39m\u001b[39m'\u001b[39m: \u001b[39m'\u001b[39m\u001b[39mZbank\u001b[39m\u001b[39m'\u001b[39m,\u001b[39m'\u001b[39m\u001b[39mrate\u001b[39m\u001b[39m'\u001b[39m: \u001b[39m0.041\u001b[39m}]\n\u001b[1;32m----> 3\u001b[0m new_rates\u001b[39m.\u001b[39;49mupdate_graph(flash_news)\n",
      "File \u001b[1;32mg:\\My Drive\\Code\\Geo\\Algo\\XchangeR8\\XchangeR8.py:22\u001b[0m, in \u001b[0;36mRates.update_graph\u001b[1;34m(self, updates)\u001b[0m\n\u001b[0;32m     19\u001b[0m \u001b[39mfor\u001b[39;00m update \u001b[39min\u001b[39;00m updates:\n\u001b[0;32m     20\u001b[0m     source, target, bank, new_rate \u001b[39m=\u001b[39m update[\u001b[39m'\u001b[39m\u001b[39mfrom\u001b[39m\u001b[39m'\u001b[39m], update[\u001b[39m'\u001b[39m\u001b[39mto\u001b[39m\u001b[39m'\u001b[39m], update[\u001b[39m'\u001b[39m\u001b[39mbank\u001b[39m\u001b[39m'\u001b[39m], update[\u001b[39m'\u001b[39m\u001b[39mrate\u001b[39m\u001b[39m'\u001b[39m]\n\u001b[0;32m     21\u001b[0m     \u001b[39mself\u001b[39m\u001b[39m.\u001b[39mbanks_table\u001b[39m.\u001b[39mloc[(\u001b[39mself\u001b[39m\u001b[39m.\u001b[39mbanks_table[\u001b[39m'\u001b[39m\u001b[39msource\u001b[39m\u001b[39m'\u001b[39m]\u001b[39m==\u001b[39msource) \n\u001b[1;32m---> 22\u001b[0m         \u001b[39m&\u001b[39m (\u001b[39mself\u001b[39m\u001b[39m.\u001b[39mbanks_table[\u001b[39m'\u001b[39m\u001b[39mtarget\u001b[39m\u001b[39m'\u001b[39m]\u001b[39m==\u001b[39mtarget) \u001b[39m&\u001b[39m (\u001b[39mself\u001b[39;49m\u001b[39m.\u001b[39;49mbanks_table[\u001b[39m'\u001b[39;49m\u001b[39mbank\u001b[39;49m\u001b[39m'\u001b[39;49m]\u001b[39m==\u001b[39mbank)] \u001b[39m=\u001b[39m new_rate\n",
      "File \u001b[1;32mc:\\Users\\menis\\miniconda3\\envs\\geo\\lib\\site-packages\\pandas\\core\\frame.py:3805\u001b[0m, in \u001b[0;36mDataFrame.__getitem__\u001b[1;34m(self, key)\u001b[0m\n\u001b[0;32m   3803\u001b[0m \u001b[39mif\u001b[39;00m \u001b[39mself\u001b[39m\u001b[39m.\u001b[39mcolumns\u001b[39m.\u001b[39mnlevels \u001b[39m>\u001b[39m \u001b[39m1\u001b[39m:\n\u001b[0;32m   3804\u001b[0m     \u001b[39mreturn\u001b[39;00m \u001b[39mself\u001b[39m\u001b[39m.\u001b[39m_getitem_multilevel(key)\n\u001b[1;32m-> 3805\u001b[0m indexer \u001b[39m=\u001b[39m \u001b[39mself\u001b[39;49m\u001b[39m.\u001b[39;49mcolumns\u001b[39m.\u001b[39;49mget_loc(key)\n\u001b[0;32m   3806\u001b[0m \u001b[39mif\u001b[39;00m is_integer(indexer):\n\u001b[0;32m   3807\u001b[0m     indexer \u001b[39m=\u001b[39m [indexer]\n",
      "File \u001b[1;32mc:\\Users\\menis\\miniconda3\\envs\\geo\\lib\\site-packages\\pandas\\core\\indexes\\base.py:3805\u001b[0m, in \u001b[0;36mIndex.get_loc\u001b[1;34m(self, key, method, tolerance)\u001b[0m\n\u001b[0;32m   3803\u001b[0m     \u001b[39mreturn\u001b[39;00m \u001b[39mself\u001b[39m\u001b[39m.\u001b[39m_engine\u001b[39m.\u001b[39mget_loc(casted_key)\n\u001b[0;32m   3804\u001b[0m \u001b[39mexcept\u001b[39;00m \u001b[39mKeyError\u001b[39;00m \u001b[39mas\u001b[39;00m err:\n\u001b[1;32m-> 3805\u001b[0m     \u001b[39mraise\u001b[39;00m \u001b[39mKeyError\u001b[39;00m(key) \u001b[39mfrom\u001b[39;00m \u001b[39merr\u001b[39;00m\n\u001b[0;32m   3806\u001b[0m \u001b[39mexcept\u001b[39;00m \u001b[39mTypeError\u001b[39;00m:\n\u001b[0;32m   3807\u001b[0m     \u001b[39m# If we have a listlike key, _check_indexing_error will raise\u001b[39;00m\n\u001b[0;32m   3808\u001b[0m     \u001b[39m#  InvalidIndexError. Otherwise we fall through and re-raise\u001b[39;00m\n\u001b[0;32m   3809\u001b[0m     \u001b[39m#  the TypeError.\u001b[39;00m\n\u001b[0;32m   3810\u001b[0m     \u001b[39mself\u001b[39m\u001b[39m.\u001b[39m_check_indexing_error(key)\n",
      "\u001b[1;31mKeyError\u001b[0m: 'bank'"
     ]
    }
   ],
   "source": [
    "flash_news = [{'from': 'Dollar','to': 'Euro','bank': 'Ybank','rate': 0.9},\n",
    "    {'from': 'Rupee','to': 'Shekel','bank': 'Zbank','rate': 0.041}]\n",
    "new_rates.update_graph(flash_news)"
   ]
  },
  {
   "cell_type": "code",
   "execution_count": null,
   "metadata": {},
   "outputs": [],
   "source": []
  }
 ],
 "metadata": {
  "kernelspec": {
   "display_name": "geo",
   "language": "python",
   "name": "python3"
  },
  "language_info": {
   "codemirror_mode": {
    "name": "ipython",
    "version": 3
   },
   "file_extension": ".py",
   "mimetype": "text/x-python",
   "name": "python",
   "nbconvert_exporter": "python",
   "pygments_lexer": "ipython3",
   "version": "3.9.15"
  },
  "orig_nbformat": 4,
  "vscode": {
   "interpreter": {
    "hash": "f0168eafcf93e4390993812d4a6b605e7b0393a21a43a4f82c1a992bce584bed"
   }
  }
 },
 "nbformat": 4,
 "nbformat_minor": 2
}
