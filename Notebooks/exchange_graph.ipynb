{
 "cells": [
  {
   "cell_type": "code",
   "execution_count": 76,
   "metadata": {},
   "outputs": [],
   "source": [
    "import numpy as np\n",
    "import pandas as pd\n",
    "import networkx as nx\n",
    "import matplotlib.pyplot as plt\n",
    "%matplotlib inline"
   ]
  },
  {
   "cell_type": "code",
   "execution_count": 26,
   "metadata": {},
   "outputs": [],
   "source": [
    "init_graph_data = pd.read_csv('currency_graph.csv')"
   ]
  },
  {
   "cell_type": "code",
   "execution_count": 28,
   "metadata": {},
   "outputs": [],
   "source": [
    "# init_graph_data = init_graph_data.set_index(['source', 'target'])\n",
    "# init_graph_data.head()"
   ]
  },
  {
   "cell_type": "code",
   "execution_count": 31,
   "metadata": {},
   "outputs": [],
   "source": [
    "init_graph_data['best'] = init_graph_data.select_dtypes(np.number).max(axis=1)"
   ]
  },
  {
   "cell_type": "code",
   "execution_count": 149,
   "metadata": {},
   "outputs": [],
   "source": [
    "rates = pd.pivot_table(init_graph_data, index='source', \n",
    "    columns='target', values='best')"
   ]
  },
  {
   "cell_type": "code",
   "execution_count": 124,
   "metadata": {},
   "outputs": [],
   "source": [
    "rates_graph = nx.from_numpy_array(-np.log(rates.to_numpy()), create_using=nx.DiGraph)"
   ]
  },
  {
   "cell_type": "code",
   "execution_count": 125,
   "metadata": {},
   "outputs": [
    {
     "data": {
      "text/plain": [
       "AdjacencyView({0: {1: {'weight': -0.6607567370809091}, 2: {'weight': -1.0130369995769801}, 3: {'weight': -0.3682887059309248}, 4: {'weight': 0.7410872293842625}, 5: {'weight': -0.8471223023782334}}, 1: {0: {'weight': 0.7376457561628093}, 2: {'weight': -0.32405646773856717}, 3: {'weight': 0.3576078494995073}, 4: {'weight': 1.4823977427969401}, 5: {'weight': -0.16398281382337912}}, 2: {0: {'weight': 1.235063164407162}, 1: {'weight': 0.4321275817593296}, 3: {'weight': 0.7257975043979297}, 4: {'weight': 1.8293062511281497}, 5: {'weight': 0.2058549304212609}}, 3: {0: {'weight': 0.4889661416707017}, 1: {'weight': -0.1928430698826629}, 2: {'weight': -0.600923926654913}, 4: {'weight': 1.2868601106873716}, 5: {'weight': -0.4916065859455929}}, 4: {0: {'weight': -0.5681673121300624}, 1: {'weight': -1.301996006048109}, 2: {'weight': -1.6741210795661225}, 3: {'weight': -1.0714573686811633}, 5: {'weight': -1.3554527580680067}}, 5: {0: {'weight': 1.061390692678752}, 1: {'weight': 0.32174214508599264}, 2: {'weight': -0.08366196211536994}, 3: {'weight': 0.5749581470016719}, 4: {'weight': 2.059928116835188}}})"
      ]
     },
     "execution_count": 125,
     "metadata": {},
     "output_type": "execute_result"
    }
   ],
   "source": [
    "rates_graph.adj"
   ]
  },
  {
   "cell_type": "code",
   "execution_count": null,
   "metadata": {},
   "outputs": [],
   "source": []
  },
  {
   "cell_type": "code",
   "execution_count": 127,
   "metadata": {},
   "outputs": [
    {
     "name": "stdout",
     "output_type": "stream",
     "text": [
      "from: 0, to: 0, [0]\n",
      "from: 0, to: 1, [0, 1]\n",
      "from: 0, to: 2, [0, 2]\n",
      "from: 0, to: 3, [0, 3]\n",
      "from: 0, to: 4, [0, 4]\n",
      "from: 0, to: 5, [0, 3, 5]\n",
      "from: 1, to: 0, [1, 0]\n",
      "from: 1, to: 1, [1]\n",
      "from: 1, to: 2, [1, 2]\n",
      "from: 1, to: 3, [1, 3]\n",
      "from: 1, to: 4, [1, 0, 4]\n",
      "from: 1, to: 5, [1, 5]\n",
      "from: 2, to: 0, [2, 1, 0]\n",
      "from: 2, to: 1, [2, 1]\n",
      "from: 2, to: 2, [2]\n",
      "from: 2, to: 3, [2, 3]\n",
      "from: 2, to: 4, [2, 4]\n",
      "from: 2, to: 5, [2, 5]\n",
      "from: 3, to: 0, [3, 0]\n",
      "from: 3, to: 1, [3, 1]\n",
      "from: 3, to: 2, [3, 2]\n",
      "from: 3, to: 3, [3]\n",
      "from: 3, to: 4, [3, 2, 4]\n",
      "from: 3, to: 5, [3, 5]\n",
      "from: 4, to: 0, [4, 3, 0]\n",
      "from: 4, to: 1, [4, 1]\n",
      "from: 4, to: 2, [4, 2]\n",
      "from: 4, to: 3, [4, 3]\n",
      "from: 4, to: 4, [4]\n",
      "from: 4, to: 5, [4, 3, 5]\n",
      "from: 5, to: 0, [5, 1, 0]\n",
      "from: 5, to: 1, [5, 1]\n",
      "from: 5, to: 2, [5, 2]\n",
      "from: 5, to: 3, [5, 3]\n",
      "from: 5, to: 4, [5, 2, 4]\n",
      "from: 5, to: 5, [5]\n"
     ]
    }
   ],
   "source": [
    "for i in range(6):\n",
    "    for j in range(6):\n",
    "        print(f\"from: {i}, to: {j}, {nx.single_source_bellman_ford(rates_graph, i, j)[1]}\")"
   ]
  },
  {
   "cell_type": "code",
   "execution_count": 131,
   "metadata": {},
   "outputs": [],
   "source": [
    "# rates_graph = nx.from_numpy_array(-np.log(rates.to_numpy()), create_using=nx.DiGraph)\n",
    "# , 'source', 'target', 'weight'\n",
    "text = nx.from_pandas_adjacency(rates, create_using=nx.DiGraph())\n"
   ]
  },
  {
   "cell_type": "code",
   "execution_count": 133,
   "metadata": {},
   "outputs": [
    {
     "data": {
      "text/plain": [
       "AdjacencyView({'Dollar': {'Dollar': {'weight': 1.0}, 'Euro': {'weight': 1.9362570176254896}, 'Pound': {'weight': 2.753952078807937}, 'Rupee': {'weight': 1.4452592336601726}, 'Shekel': {'weight': 0.4765954651407535}, 'Yen': {'weight': 2.332923733934349}}, 'Euro': {'Euro': {'weight': 1.0}, 'Dollar': {'weight': 0.4782384812478483}, 'Pound': {'weight': 1.3827253842905485}, 'Rupee': {'weight': 0.6993472706222306}, 'Shekel': {'weight': 0.2270925255974366}, 'Yen': {'weight': 1.1781940662674062}}, 'Pound': {'Pound': {'weight': 1.0}, 'Dollar': {'weight': 0.2908163925426702}, 'Euro': {'weight': 0.6491265546940966}, 'Rupee': {'weight': 0.483938471959085}, 'Shekel': {'weight': 0.1605248931182969}, 'Yen': {'weight': 0.813951147268508}}, 'Rupee': {'Rupee': {'weight': 1.0}, 'Dollar': {'weight': 0.6132600906045081}, 'Euro': {'weight': 1.212692470614105}, 'Pound': {'weight': 1.82380308247535}, 'Shekel': {'weight': 0.2761364612352135}, 'Yen': {'weight': 1.6349407839824364}}, 'Shekel': {'Shekel': {'weight': 1.0}, 'Dollar': {'weight': 1.7650293376233968}, 'Euro': {'weight': 3.6766279201383023}, 'Pound': {'weight': 5.334104834432998}, 'Rupee': {'weight': 2.919631380280008}, 'Yen': {'weight': 3.8785165888423614}}, 'Yen': {'Yen': {'weight': 1.0}, 'Dollar': {'weight': 0.3459743316431621}, 'Euro': {'weight': 0.7248850814138084}, 'Pound': {'weight': 1.0872612961727646}, 'Rupee': {'weight': 0.5627284201857335}, 'Shekel': {'weight': 0.1274631320188419}}})"
      ]
     },
     "execution_count": 133,
     "metadata": {},
     "output_type": "execute_result"
    }
   ],
   "source": [
    "text.adj"
   ]
  },
  {
   "cell_type": "code",
   "execution_count": 134,
   "metadata": {},
   "outputs": [
    {
     "data": {
      "text/plain": [
       "NodeView(('Dollar', 'Euro', 'Pound', 'Rupee', 'Shekel', 'Yen'))"
      ]
     },
     "execution_count": 134,
     "metadata": {},
     "output_type": "execute_result"
    }
   ],
   "source": [
    "text.nodes"
   ]
  },
  {
   "cell_type": "code",
   "execution_count": 135,
   "metadata": {},
   "outputs": [
    {
     "name": "stdout",
     "output_type": "stream",
     "text": [
      "from: Dollar, to: Dollar, ['Dollar']\n",
      "from: Dollar, to: Euro, ['Dollar', 'Euro']\n",
      "from: Dollar, to: Pound, ['Dollar', 'Pound']\n",
      "from: Dollar, to: Rupee, ['Dollar', 'Rupee']\n",
      "from: Dollar, to: Shekel, ['Dollar', 'Shekel']\n",
      "from: Dollar, to: Yen, ['Dollar', 'Yen']\n",
      "from: Euro, to: Dollar, ['Euro', 'Dollar']\n",
      "from: Euro, to: Euro, ['Euro']\n",
      "from: Euro, to: Pound, ['Euro', 'Pound']\n",
      "from: Euro, to: Rupee, ['Euro', 'Rupee']\n",
      "from: Euro, to: Shekel, ['Euro', 'Shekel']\n",
      "from: Euro, to: Yen, ['Euro', 'Yen']\n",
      "from: Pound, to: Dollar, ['Pound', 'Dollar']\n",
      "from: Pound, to: Euro, ['Pound', 'Euro']\n",
      "from: Pound, to: Pound, ['Pound']\n",
      "from: Pound, to: Rupee, ['Pound', 'Rupee']\n",
      "from: Pound, to: Shekel, ['Pound', 'Shekel']\n",
      "from: Pound, to: Yen, ['Pound', 'Yen']\n",
      "from: Rupee, to: Dollar, ['Rupee', 'Dollar']\n",
      "from: Rupee, to: Euro, ['Rupee', 'Euro']\n",
      "from: Rupee, to: Pound, ['Rupee', 'Pound']\n",
      "from: Rupee, to: Rupee, ['Rupee']\n",
      "from: Rupee, to: Shekel, ['Rupee', 'Shekel']\n",
      "from: Rupee, to: Yen, ['Rupee', 'Yen']\n",
      "from: Shekel, to: Dollar, ['Shekel', 'Dollar']\n",
      "from: Shekel, to: Euro, ['Shekel', 'Euro']\n",
      "from: Shekel, to: Pound, ['Shekel', 'Dollar', 'Pound']\n",
      "from: Shekel, to: Rupee, ['Shekel', 'Rupee']\n",
      "from: Shekel, to: Shekel, ['Shekel']\n",
      "from: Shekel, to: Yen, ['Shekel', 'Yen']\n",
      "from: Yen, to: Dollar, ['Yen', 'Dollar']\n",
      "from: Yen, to: Euro, ['Yen', 'Euro']\n",
      "from: Yen, to: Pound, ['Yen', 'Pound']\n",
      "from: Yen, to: Rupee, ['Yen', 'Rupee']\n",
      "from: Yen, to: Shekel, ['Yen', 'Shekel']\n",
      "from: Yen, to: Yen, ['Yen']\n"
     ]
    }
   ],
   "source": [
    "for i in text.nodes:\n",
    "    for j in text.nodes:\n",
    "        print(f\"from: {i}, to: {j}, {nx.single_source_bellman_ford(text, i, j)[1]}\")"
   ]
  },
  {
   "cell_type": "code",
   "execution_count": 188,
   "metadata": {},
   "outputs": [
    {
     "data": {
      "text/html": [
       "<div>\n",
       "<style scoped>\n",
       "    .dataframe tbody tr th:only-of-type {\n",
       "        vertical-align: middle;\n",
       "    }\n",
       "\n",
       "    .dataframe tbody tr th {\n",
       "        vertical-align: top;\n",
       "    }\n",
       "\n",
       "    .dataframe thead th {\n",
       "        text-align: right;\n",
       "    }\n",
       "</style>\n",
       "<table border=\"1\" class=\"dataframe\">\n",
       "  <thead>\n",
       "    <tr style=\"text-align: right;\">\n",
       "      <th>target</th>\n",
       "      <th>Dollar</th>\n",
       "      <th>Euro</th>\n",
       "      <th>Pound</th>\n",
       "      <th>Rupee</th>\n",
       "      <th>Shekel</th>\n",
       "      <th>Yen</th>\n",
       "    </tr>\n",
       "    <tr>\n",
       "      <th>source</th>\n",
       "      <th></th>\n",
       "      <th></th>\n",
       "      <th></th>\n",
       "      <th></th>\n",
       "      <th></th>\n",
       "      <th></th>\n",
       "    </tr>\n",
       "  </thead>\n",
       "  <tbody>\n",
       "    <tr>\n",
       "      <th>Dollar</th>\n",
       "      <td>NaN</td>\n",
       "      <td>-0.660757</td>\n",
       "      <td>-1.013037</td>\n",
       "      <td>-0.368289</td>\n",
       "      <td>0.741087</td>\n",
       "      <td>-0.847122</td>\n",
       "    </tr>\n",
       "    <tr>\n",
       "      <th>Euro</th>\n",
       "      <td>0.737646</td>\n",
       "      <td>NaN</td>\n",
       "      <td>-0.324056</td>\n",
       "      <td>0.357608</td>\n",
       "      <td>1.482398</td>\n",
       "      <td>-0.163983</td>\n",
       "    </tr>\n",
       "    <tr>\n",
       "      <th>Pound</th>\n",
       "      <td>1.235063</td>\n",
       "      <td>0.432128</td>\n",
       "      <td>NaN</td>\n",
       "      <td>0.725798</td>\n",
       "      <td>1.829306</td>\n",
       "      <td>0.205855</td>\n",
       "    </tr>\n",
       "    <tr>\n",
       "      <th>Rupee</th>\n",
       "      <td>0.488966</td>\n",
       "      <td>-0.192843</td>\n",
       "      <td>-0.600924</td>\n",
       "      <td>NaN</td>\n",
       "      <td>1.286860</td>\n",
       "      <td>-0.491607</td>\n",
       "    </tr>\n",
       "    <tr>\n",
       "      <th>Shekel</th>\n",
       "      <td>-0.568167</td>\n",
       "      <td>-1.301996</td>\n",
       "      <td>-1.674121</td>\n",
       "      <td>-1.071457</td>\n",
       "      <td>NaN</td>\n",
       "      <td>-1.355453</td>\n",
       "    </tr>\n",
       "    <tr>\n",
       "      <th>Yen</th>\n",
       "      <td>1.061391</td>\n",
       "      <td>0.321742</td>\n",
       "      <td>-0.083662</td>\n",
       "      <td>0.574958</td>\n",
       "      <td>2.059928</td>\n",
       "      <td>NaN</td>\n",
       "    </tr>\n",
       "  </tbody>\n",
       "</table>\n",
       "</div>"
      ],
      "text/plain": [
       "target    Dollar      Euro     Pound     Rupee    Shekel       Yen\n",
       "source                                                            \n",
       "Dollar       NaN -0.660757 -1.013037 -0.368289  0.741087 -0.847122\n",
       "Euro    0.737646       NaN -0.324056  0.357608  1.482398 -0.163983\n",
       "Pound   1.235063  0.432128       NaN  0.725798  1.829306  0.205855\n",
       "Rupee   0.488966 -0.192843 -0.600924       NaN  1.286860 -0.491607\n",
       "Shekel -0.568167 -1.301996 -1.674121 -1.071457       NaN -1.355453\n",
       "Yen     1.061391  0.321742 -0.083662  0.574958  2.059928       NaN"
      ]
     },
     "execution_count": 188,
     "metadata": {},
     "output_type": "execute_result"
    }
   ],
   "source": [
    "df = rates.copy()\n",
    "df = -np.log(df)\n",
    "df"
   ]
  },
  {
   "cell_type": "code",
   "execution_count": 189,
   "metadata": {},
   "outputs": [],
   "source": [
    "test = nx.from_pandas_adjacency(df, create_using=nx.DiGraph())"
   ]
  },
  {
   "cell_type": "code",
   "execution_count": 190,
   "metadata": {},
   "outputs": [
    {
     "name": "stdout",
     "output_type": "stream",
     "text": [
      "from: Dollar, to: Dollar, ['Dollar']\n",
      "from: Dollar, to: Euro, ['Dollar', 'Euro']\n",
      "from: Dollar, to: Pound, ['Dollar', 'Pound']\n",
      "from: Dollar, to: Rupee, ['Dollar', 'Rupee']\n",
      "from: Dollar, to: Shekel, ['Dollar', 'Shekel']\n",
      "from: Dollar, to: Yen, ['Dollar', 'Rupee', 'Yen']\n",
      "from: Euro, to: Dollar, ['Euro', 'Dollar']\n",
      "from: Euro, to: Euro, ['Euro']\n",
      "from: Euro, to: Pound, ['Euro', 'Pound']\n",
      "from: Euro, to: Rupee, ['Euro', 'Rupee']\n",
      "from: Euro, to: Shekel, ['Euro', 'Dollar', 'Shekel']\n",
      "from: Euro, to: Yen, ['Euro', 'Yen']\n",
      "from: Pound, to: Dollar, ['Pound', 'Euro', 'Dollar']\n",
      "from: Pound, to: Euro, ['Pound', 'Euro']\n",
      "from: Pound, to: Pound, ['Pound']\n",
      "from: Pound, to: Rupee, ['Pound', 'Rupee']\n",
      "from: Pound, to: Shekel, ['Pound', 'Shekel']\n",
      "from: Pound, to: Yen, ['Pound', 'Yen']\n",
      "from: Rupee, to: Dollar, ['Rupee', 'Dollar']\n",
      "from: Rupee, to: Euro, ['Rupee', 'Euro']\n",
      "from: Rupee, to: Pound, ['Rupee', 'Pound']\n",
      "from: Rupee, to: Rupee, ['Rupee']\n",
      "from: Rupee, to: Shekel, ['Rupee', 'Pound', 'Shekel']\n",
      "from: Rupee, to: Yen, ['Rupee', 'Yen']\n",
      "from: Shekel, to: Dollar, ['Shekel', 'Rupee', 'Dollar']\n",
      "from: Shekel, to: Euro, ['Shekel', 'Euro']\n",
      "from: Shekel, to: Pound, ['Shekel', 'Pound']\n",
      "from: Shekel, to: Rupee, ['Shekel', 'Rupee']\n",
      "from: Shekel, to: Shekel, ['Shekel']\n",
      "from: Shekel, to: Yen, ['Shekel', 'Rupee', 'Yen']\n",
      "from: Yen, to: Dollar, ['Yen', 'Euro', 'Dollar']\n",
      "from: Yen, to: Euro, ['Yen', 'Euro']\n",
      "from: Yen, to: Pound, ['Yen', 'Pound']\n",
      "from: Yen, to: Rupee, ['Yen', 'Rupee']\n",
      "from: Yen, to: Shekel, ['Yen', 'Pound', 'Shekel']\n",
      "from: Yen, to: Yen, ['Yen']\n"
     ]
    }
   ],
   "source": [
    "for i in test.nodes:\n",
    "    for j in test.nodes:\n",
    "        print(f\"from: {i}, to: {j}, {nx.single_source_bellman_ford(test, i, j)[1]}\")"
   ]
  },
  {
   "cell_type": "code",
   "execution_count": 206,
   "metadata": {},
   "outputs": [],
   "source": [
    "# df['Pound']['Shekel']"
   ]
  },
  {
   "cell_type": "code",
   "execution_count": 218,
   "metadata": {},
   "outputs": [],
   "source": [
    "test['Shekel']['Pound']['weight'] = - 1.7"
   ]
  },
  {
   "cell_type": "code",
   "execution_count": null,
   "metadata": {},
   "outputs": [],
   "source": []
  },
  {
   "cell_type": "code",
   "execution_count": 220,
   "metadata": {},
   "outputs": [
    {
     "name": "stdout",
     "output_type": "stream",
     "text": [
      "['Shekel', 'Rupee', 'Dollar']\n",
      "['Shekel', 'Euro']\n",
      "['Shekel', 'Pound']\n",
      "['Shekel', 'Rupee']\n",
      "['Shekel']\n",
      "['Shekel', 'Rupee', 'Yen']\n"
     ]
    }
   ],
   "source": [
    "for i in test.nodes:\n",
    "    for j in test.nodes:\n",
    "        try:\n",
    "            if i=='Shekel':\n",
    "                print(nx.single_source_bellman_ford(test, i, j)[1])\n",
    "        except nx.NetworkXUnbounded: \n",
    "            print(\"Negative Cycle!\")"
   ]
  },
  {
   "cell_type": "code",
   "execution_count": null,
   "metadata": {},
   "outputs": [],
   "source": []
  }
 ],
 "metadata": {
  "kernelspec": {
   "display_name": "geo",
   "language": "python",
   "name": "python3"
  },
  "language_info": {
   "codemirror_mode": {
    "name": "ipython",
    "version": 3
   },
   "file_extension": ".py",
   "mimetype": "text/x-python",
   "name": "python",
   "nbconvert_exporter": "python",
   "pygments_lexer": "ipython3",
   "version": "3.9.15 (main, Nov 24 2022, 14:39:17) [MSC v.1916 64 bit (AMD64)]"
  },
  "orig_nbformat": 4,
  "vscode": {
   "interpreter": {
    "hash": "f0168eafcf93e4390993812d4a6b605e7b0393a21a43a4f82c1a992bce584bed"
   }
  }
 },
 "nbformat": 4,
 "nbformat_minor": 2
}
